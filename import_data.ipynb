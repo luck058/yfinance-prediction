{
  "nbformat": 4,
  "nbformat_minor": 0,
  "metadata": {
    "colab": {
      "provenance": [],
      "authorship_tag": "ABX9TyNYTlLtDdwfo8UlKn0Bs/S/",
      "include_colab_link": true
    },
    "kernelspec": {
      "name": "python3",
      "display_name": "Python 3"
    },
    "language_info": {
      "name": "python"
    }
  },
  "cells": [
    {
      "cell_type": "markdown",
      "metadata": {
        "id": "view-in-github",
        "colab_type": "text"
      },
      "source": [
        "<a href=\"https://colab.research.google.com/github/luck058/yfinance-prediction/blob/main/import_data.ipynb\" target=\"_parent\"><img src=\"https://colab.research.google.com/assets/colab-badge.svg\" alt=\"Open In Colab\"/></a>"
      ]
    },
    {
      "cell_type": "code",
      "source": [
        "%%capture\n",
        "!pip install yfinance"
      ],
      "metadata": {
        "id": "KOEKKwt9VbML"
      },
      "execution_count": 15,
      "outputs": []
    },
    {
      "cell_type": "code",
      "execution_count": 16,
      "metadata": {
        "id": "IQIZaY4WVULz"
      },
      "outputs": [],
      "source": [
        "import yfinance as yf\n",
        "import pandas as pd"
      ]
    },
    {
      "cell_type": "code",
      "source": [
        "def help():\n",
        "    print('# Set up data fetcher using:')\n",
        "    print('data_fetcher = YahooFinanceDataFetcher(self, ticker_symbol, period=\"max\", interval=\"1d\")\\n')\n",
        "    print('# Get historical data using:')\n",
        "    print('df_data = data_fetcher.get_data(verbose=False)\\n')\n",
        "    print('# Get financials using:')\n",
        "    print('df_financials = data_fetcher.get_financials(verbose=False)\\n')\n",
        "    print('# Get actions using:')\n",
        "    print('df_actions = data_fetcher.get_actions(verbose=False)\\n')"
      ],
      "metadata": {
        "id": "fvdvL9Wpb2Oe"
      },
      "execution_count": 17,
      "outputs": []
    },
    {
      "cell_type": "code",
      "source": [
        "class YahooFinanceDataFetcher:\n",
        "    \"\"\"All functions defined in this notebook are added to this class\"\"\"\n",
        "    def __init__(self, ticker_symbol, period=\"max\", interval=\"1d\"):\n",
        "        self.ticker_symbol = ticker_symbol\n",
        "        self.ticker = yf.Ticker(ticker_symbol)\n",
        "        self.period = period\n",
        "        self.interval = interval"
      ],
      "metadata": {
        "id": "2Ytd0l_tVaWM"
      },
      "execution_count": 18,
      "outputs": []
    },
    {
      "cell_type": "code",
      "source": [
        "def get_data(self, reload=False, verbose=False):\n",
        "    \"\"\"Get historical data from Yahoo Finance. If reload=False, gets saved data from GitHub if available\"\"\"\n",
        "    if not reload:\n",
        "        try:\n",
        "            if verbose:\n",
        "                print(\"Loading saved data from GitHub\")\n",
        "            data = pd.read_csv(f\"{self.ticker_symbol}-{self.period}-{self.interval}.csv\")\n",
        "        except FileNotFoundError:\n",
        "            if verbose:\n",
        "                print(\"No saved data found. Reloading data from Yahoo Finance\")\n",
        "            data = self.ticker.history(period=self.period, interval=self.interval)\n",
        "    else:\n",
        "        if verbose:\n",
        "            print(\"Reloading data from Yahoo Finance. This will not be saved. Use save_data() to save to GitHub\")\n",
        "        data = self.ticker.history(period=self.period, interval=self.interval)\n",
        "\n",
        "    df_data = pd.DataFrame(data)\n",
        "\n",
        "    if verbose:\n",
        "        display(\"Historical Data:\")\n",
        "        display(df_data.head())\n",
        "\n",
        "    return df_data"
      ],
      "metadata": {
        "id": "2Ycz_z-3WNyP"
      },
      "execution_count": 29,
      "outputs": []
    },
    {
      "cell_type": "code",
      "source": [
        "def get_financials(self, verbose=False):\n",
        "    financials = self.ticker.financials\n",
        "    df_financials = pd.DataFrame(financials).T\n",
        "\n",
        "    if verbose:\n",
        "        print(\"Financials:\")\n",
        "        display(df_financials)\n",
        "\n",
        "    return df_financials"
      ],
      "metadata": {
        "id": "CE9KdIhgYoqS"
      },
      "execution_count": 20,
      "outputs": []
    },
    {
      "cell_type": "code",
      "source": [
        "def get_actions(self, verbose=False):\n",
        "    actions = self.ticker.actions\n",
        "    df_actions = pd.DataFrame(actions)\n",
        "\n",
        "    if verbose:\n",
        "        print(\"Actions:\")\n",
        "        display(df_actions)\n",
        "\n",
        "    return df_actions"
      ],
      "metadata": {
        "id": "y051IGK2ZPqS"
      },
      "execution_count": 21,
      "outputs": []
    },
    {
      "cell_type": "code",
      "source": [
        "def save_data(self, verbose=False):\n",
        "    \"\"\"Saves data to csv file in root directory of GitHub. Saves as 'ticker-period-interval.csv'\"\"\"\n",
        "    file_name = f\"{self.ticker_symbol}-{self.period}-{self.interval}.csv\"\n",
        "    df = self.get_data(reload=True, verbose=False)\n",
        "    df.to_csv(file_name)\n",
        "    if verbose:\n",
        "        print(f\"Saved data as {file_name}\")"
      ],
      "metadata": {
        "id": "H936DCWGXuyl"
      },
      "execution_count": 22,
      "outputs": []
    },
    {
      "cell_type": "code",
      "source": [
        "YahooFinanceDataFetcher.get_data = get_data\n",
        "YahooFinanceDataFetcher.get_financials = get_financials\n",
        "YahooFinanceDataFetcher.get_actions = get_actions\n",
        "YahooFinanceDataFetcher.save_data = save_data"
      ],
      "metadata": {
        "id": "PEklQ1FtYHzn"
      },
      "execution_count": 30,
      "outputs": []
    },
    {
      "cell_type": "code",
      "source": [
        "# data_fetcher = YahooFinanceDataFetcher(\"AAPL\", period=\"1d\")\n",
        "\n",
        "# df_data = data_fetcher.get_data()\n",
        "\n",
        "# display(df_data)"
      ],
      "metadata": {
        "colab": {
          "base_uri": "https://localhost:8080/"
        },
        "id": "91s0hOHCYYGi",
        "outputId": "97c54752-0161-4d00-b7f6-28e44b175209"
      },
      "execution_count": 34,
      "outputs": [
        {
          "output_type": "stream",
          "name": "stdout",
          "text": [
            "An error occurred in get_data: [Errno 2] No such file or directory: 'AAPL-1d-1d.csv'\n"
          ]
        }
      ]
    },
    {
      "cell_type": "code",
      "source": [],
      "metadata": {
        "id": "1Yi3qfPQaOLN"
      },
      "execution_count": null,
      "outputs": []
    }
  ]
}