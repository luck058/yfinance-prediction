{
  "nbformat": 4,
  "nbformat_minor": 0,
  "metadata": {
    "colab": {
      "provenance": [],
      "authorship_tag": "ABX9TyNmaadbn2VaViIHVz1KKdMk",
      "include_colab_link": true
    },
    "kernelspec": {
      "name": "python3",
      "display_name": "Python 3"
    },
    "language_info": {
      "name": "python"
    }
  },
  "cells": [
    {
      "cell_type": "markdown",
      "metadata": {
        "id": "view-in-github",
        "colab_type": "text"
      },
      "source": [
        "<a href=\"https://colab.research.google.com/github/luck058/yfinance-prediction/blob/main/import_data.ipynb\" target=\"_parent\"><img src=\"https://colab.research.google.com/assets/colab-badge.svg\" alt=\"Open In Colab\"/></a>"
      ]
    },
    {
      "cell_type": "code",
      "source": [
        "%%capture\n",
        "!pip install yfinance"
      ],
      "metadata": {
        "id": "KOEKKwt9VbML"
      },
      "execution_count": 1,
      "outputs": []
    },
    {
      "cell_type": "code",
      "execution_count": 2,
      "metadata": {
        "id": "IQIZaY4WVULz"
      },
      "outputs": [],
      "source": [
        "import yfinance as yf\n",
        "import pandas as pd"
      ]
    },
    {
      "cell_type": "code",
      "source": [
        "def help():\n",
        "    print('# Set up data fetcher using:')\n",
        "    print('data_fetcher = YahooFinanceDataFetcher(self, ticker_symbol, period=\"max\", interval=\"1d\")\\n')\n",
        "    print('# Get historical data using:')\n",
        "    print('df_data = data_fetcher.get_data(verbose=False)\\n')\n",
        "    print('# Get financials using:')\n",
        "    print('df_financials = data_fetcher.get_financials(verbose=False)\\n')\n",
        "    print('# Get actions using:')\n",
        "    print('df_actions = data_fetcher.get_actions(verbose=False)\\n')"
      ],
      "metadata": {
        "id": "fvdvL9Wpb2Oe"
      },
      "execution_count": 3,
      "outputs": []
    },
    {
      "cell_type": "code",
      "source": [
        "class YahooFinanceDataFetcher:\n",
        "    \"\"\"All functions defined in this notebook are added to this class\"\"\"\n",
        "    def __init__(self, ticker_symbol, period=\"max\", interval=\"1d\", train_frac=0.8):\n",
        "        self.ticker_symbol = ticker_symbol\n",
        "        self.ticker = yf.Ticker(ticker_symbol)\n",
        "        self.period = period\n",
        "        self.interval = interval\n",
        "        # Fraction of the data which will be used for training (last section will be reserved for testing)\n",
        "        self.train_frac = train_frac\n",
        "        self.X = None\n",
        "        self.y = None"
      ],
      "metadata": {
        "id": "2Ytd0l_tVaWM"
      },
      "execution_count": 24,
      "outputs": []
    },
    {
      "cell_type": "code",
      "source": [
        "def get_raw_data(self, verbose=False):\n",
        "    \"\"\"Get historical data from Yahoo Finance. If reload=False, gets saved data from GitHub if available\"\"\"\n",
        "    data = self.ticker.history(period=self.period, interval=self.interval)\n",
        "    df_data = pd.DataFrame(data)\n",
        "\n",
        "    if verbose:\n",
        "        display(\"Historical Data:\")\n",
        "        display(df_data.head())\n",
        "\n",
        "    return df_data\n",
        "\n",
        "YahooFinanceDataFetcher.get_raw_data = get_raw_data"
      ],
      "metadata": {
        "id": "gNzo3JZNXNKw"
      },
      "execution_count": 28,
      "outputs": []
    },
    {
      "cell_type": "code",
      "source": [
        "def get_financials(self, verbose=False):\n",
        "    financials = self.ticker.financials\n",
        "    df_financials = pd.DataFrame(financials).T\n",
        "\n",
        "    if verbose:\n",
        "        print(\"Financials:\")\n",
        "        display(df_financials)\n",
        "\n",
        "    return df_financials\n",
        "\n",
        "YahooFinanceDataFetcher.get_financials = get_financials"
      ],
      "metadata": {
        "id": "CE9KdIhgYoqS"
      },
      "execution_count": 25,
      "outputs": []
    },
    {
      "cell_type": "code",
      "source": [
        "def get_actions(self, verbose=False):\n",
        "    actions = self.ticker.actions\n",
        "    df_actions = pd.DataFrame(actions)\n",
        "\n",
        "    if verbose:\n",
        "        print(\"Actions:\")\n",
        "        display(df_actions)\n",
        "\n",
        "    return df_actions\n",
        "\n",
        "YahooFinanceDataFetcher.get_actions = get_actions"
      ],
      "metadata": {
        "id": "y051IGK2ZPqS"
      },
      "execution_count": 26,
      "outputs": []
    },
    {
      "cell_type": "code",
      "source": [
        "def get_X_y(self, reload=False, test=False, verbose=False\n",
        "            ):\n",
        "    \"\"\"Return X and y dataframes\"\"\"\n",
        "    # If the X and y have already been created\n",
        "    if self.X is not None and self.y is not None:\n",
        "        train_length = int(len(self.X) * self.train_frac)\n",
        "        test_length = len(self.X) - train_length\n",
        "        if test:\n",
        "            return self.X.tail(test_length), self.y.tail(test_length)\n",
        "        else:\n",
        "            return self.X.head(train_length), self.y.head(train_length)\n",
        "\n",
        "    df = self.get_raw_data(verbose=verbose)\n",
        "    df\n",
        "    # display(df)\n",
        "\n",
        "    return None, None\n",
        "\n",
        "\n",
        "\n",
        "\n",
        "\n",
        "YahooFinanceDataFetcher.get_X_y = get_X_y\n",
        "\n",
        "data_fetcher = YahooFinanceDataFetcher(\"AAPL\")\n",
        "\n",
        "X, y = data_fetcher.get_X_y(verbose=True)\n",
        "\n",
        "display(X, y)"
      ],
      "metadata": {
        "id": "zE16iV_qTQPC",
        "outputId": "ee013991-75e5-489d-febb-7b671e716306",
        "colab": {
          "base_uri": "https://localhost:8080/",
          "height": 290
        }
      },
      "execution_count": 31,
      "outputs": [
        {
          "output_type": "display_data",
          "data": {
            "text/plain": [
              "'Historical Data:'"
            ],
            "application/vnd.google.colaboratory.intrinsic+json": {
              "type": "string"
            }
          },
          "metadata": {}
        },
        {
          "output_type": "display_data",
          "data": {
            "text/plain": [
              "                               Open      High       Low     Close     Volume  \\\n",
              "Date                                                                           \n",
              "1980-12-12 00:00:00-05:00  0.098834  0.099264  0.098834  0.098834  469033600   \n",
              "1980-12-15 00:00:00-05:00  0.094108  0.094108  0.093678  0.093678  175884800   \n",
              "1980-12-16 00:00:00-05:00  0.087232  0.087232  0.086802  0.086802  105728000   \n",
              "1980-12-17 00:00:00-05:00  0.088951  0.089381  0.088951  0.088951   86441600   \n",
              "1980-12-18 00:00:00-05:00  0.091530  0.091959  0.091530  0.091530   73449600   \n",
              "\n",
              "                           Dividends  Stock Splits  \n",
              "Date                                                \n",
              "1980-12-12 00:00:00-05:00        0.0           0.0  \n",
              "1980-12-15 00:00:00-05:00        0.0           0.0  \n",
              "1980-12-16 00:00:00-05:00        0.0           0.0  \n",
              "1980-12-17 00:00:00-05:00        0.0           0.0  \n",
              "1980-12-18 00:00:00-05:00        0.0           0.0  "
            ],
            "text/html": [
              "\n",
              "  <div id=\"df-b0bc2ce6-7195-41ef-9bf8-668955356f92\" class=\"colab-df-container\">\n",
              "    <div>\n",
              "<style scoped>\n",
              "    .dataframe tbody tr th:only-of-type {\n",
              "        vertical-align: middle;\n",
              "    }\n",
              "\n",
              "    .dataframe tbody tr th {\n",
              "        vertical-align: top;\n",
              "    }\n",
              "\n",
              "    .dataframe thead th {\n",
              "        text-align: right;\n",
              "    }\n",
              "</style>\n",
              "<table border=\"1\" class=\"dataframe\">\n",
              "  <thead>\n",
              "    <tr style=\"text-align: right;\">\n",
              "      <th></th>\n",
              "      <th>Open</th>\n",
              "      <th>High</th>\n",
              "      <th>Low</th>\n",
              "      <th>Close</th>\n",
              "      <th>Volume</th>\n",
              "      <th>Dividends</th>\n",
              "      <th>Stock Splits</th>\n",
              "    </tr>\n",
              "    <tr>\n",
              "      <th>Date</th>\n",
              "      <th></th>\n",
              "      <th></th>\n",
              "      <th></th>\n",
              "      <th></th>\n",
              "      <th></th>\n",
              "      <th></th>\n",
              "      <th></th>\n",
              "    </tr>\n",
              "  </thead>\n",
              "  <tbody>\n",
              "    <tr>\n",
              "      <th>1980-12-12 00:00:00-05:00</th>\n",
              "      <td>0.098834</td>\n",
              "      <td>0.099264</td>\n",
              "      <td>0.098834</td>\n",
              "      <td>0.098834</td>\n",
              "      <td>469033600</td>\n",
              "      <td>0.0</td>\n",
              "      <td>0.0</td>\n",
              "    </tr>\n",
              "    <tr>\n",
              "      <th>1980-12-15 00:00:00-05:00</th>\n",
              "      <td>0.094108</td>\n",
              "      <td>0.094108</td>\n",
              "      <td>0.093678</td>\n",
              "      <td>0.093678</td>\n",
              "      <td>175884800</td>\n",
              "      <td>0.0</td>\n",
              "      <td>0.0</td>\n",
              "    </tr>\n",
              "    <tr>\n",
              "      <th>1980-12-16 00:00:00-05:00</th>\n",
              "      <td>0.087232</td>\n",
              "      <td>0.087232</td>\n",
              "      <td>0.086802</td>\n",
              "      <td>0.086802</td>\n",
              "      <td>105728000</td>\n",
              "      <td>0.0</td>\n",
              "      <td>0.0</td>\n",
              "    </tr>\n",
              "    <tr>\n",
              "      <th>1980-12-17 00:00:00-05:00</th>\n",
              "      <td>0.088951</td>\n",
              "      <td>0.089381</td>\n",
              "      <td>0.088951</td>\n",
              "      <td>0.088951</td>\n",
              "      <td>86441600</td>\n",
              "      <td>0.0</td>\n",
              "      <td>0.0</td>\n",
              "    </tr>\n",
              "    <tr>\n",
              "      <th>1980-12-18 00:00:00-05:00</th>\n",
              "      <td>0.091530</td>\n",
              "      <td>0.091959</td>\n",
              "      <td>0.091530</td>\n",
              "      <td>0.091530</td>\n",
              "      <td>73449600</td>\n",
              "      <td>0.0</td>\n",
              "      <td>0.0</td>\n",
              "    </tr>\n",
              "  </tbody>\n",
              "</table>\n",
              "</div>\n",
              "    <div class=\"colab-df-buttons\">\n",
              "\n",
              "  <div class=\"colab-df-container\">\n",
              "    <button class=\"colab-df-convert\" onclick=\"convertToInteractive('df-b0bc2ce6-7195-41ef-9bf8-668955356f92')\"\n",
              "            title=\"Convert this dataframe to an interactive table.\"\n",
              "            style=\"display:none;\">\n",
              "\n",
              "  <svg xmlns=\"http://www.w3.org/2000/svg\" height=\"24px\" viewBox=\"0 -960 960 960\">\n",
              "    <path d=\"M120-120v-720h720v720H120Zm60-500h600v-160H180v160Zm220 220h160v-160H400v160Zm0 220h160v-160H400v160ZM180-400h160v-160H180v160Zm440 0h160v-160H620v160ZM180-180h160v-160H180v160Zm440 0h160v-160H620v160Z\"/>\n",
              "  </svg>\n",
              "    </button>\n",
              "\n",
              "  <style>\n",
              "    .colab-df-container {\n",
              "      display:flex;\n",
              "      gap: 12px;\n",
              "    }\n",
              "\n",
              "    .colab-df-convert {\n",
              "      background-color: #E8F0FE;\n",
              "      border: none;\n",
              "      border-radius: 50%;\n",
              "      cursor: pointer;\n",
              "      display: none;\n",
              "      fill: #1967D2;\n",
              "      height: 32px;\n",
              "      padding: 0 0 0 0;\n",
              "      width: 32px;\n",
              "    }\n",
              "\n",
              "    .colab-df-convert:hover {\n",
              "      background-color: #E2EBFA;\n",
              "      box-shadow: 0px 1px 2px rgba(60, 64, 67, 0.3), 0px 1px 3px 1px rgba(60, 64, 67, 0.15);\n",
              "      fill: #174EA6;\n",
              "    }\n",
              "\n",
              "    .colab-df-buttons div {\n",
              "      margin-bottom: 4px;\n",
              "    }\n",
              "\n",
              "    [theme=dark] .colab-df-convert {\n",
              "      background-color: #3B4455;\n",
              "      fill: #D2E3FC;\n",
              "    }\n",
              "\n",
              "    [theme=dark] .colab-df-convert:hover {\n",
              "      background-color: #434B5C;\n",
              "      box-shadow: 0px 1px 3px 1px rgba(0, 0, 0, 0.15);\n",
              "      filter: drop-shadow(0px 1px 2px rgba(0, 0, 0, 0.3));\n",
              "      fill: #FFFFFF;\n",
              "    }\n",
              "  </style>\n",
              "\n",
              "    <script>\n",
              "      const buttonEl =\n",
              "        document.querySelector('#df-b0bc2ce6-7195-41ef-9bf8-668955356f92 button.colab-df-convert');\n",
              "      buttonEl.style.display =\n",
              "        google.colab.kernel.accessAllowed ? 'block' : 'none';\n",
              "\n",
              "      async function convertToInteractive(key) {\n",
              "        const element = document.querySelector('#df-b0bc2ce6-7195-41ef-9bf8-668955356f92');\n",
              "        const dataTable =\n",
              "          await google.colab.kernel.invokeFunction('convertToInteractive',\n",
              "                                                    [key], {});\n",
              "        if (!dataTable) return;\n",
              "\n",
              "        const docLinkHtml = 'Like what you see? Visit the ' +\n",
              "          '<a target=\"_blank\" href=https://colab.research.google.com/notebooks/data_table.ipynb>data table notebook</a>'\n",
              "          + ' to learn more about interactive tables.';\n",
              "        element.innerHTML = '';\n",
              "        dataTable['output_type'] = 'display_data';\n",
              "        await google.colab.output.renderOutput(dataTable, element);\n",
              "        const docLink = document.createElement('div');\n",
              "        docLink.innerHTML = docLinkHtml;\n",
              "        element.appendChild(docLink);\n",
              "      }\n",
              "    </script>\n",
              "  </div>\n",
              "\n",
              "\n",
              "<div id=\"df-3cdc38cc-8a3f-4648-a53f-4b6adc7f7ac7\">\n",
              "  <button class=\"colab-df-quickchart\" onclick=\"quickchart('df-3cdc38cc-8a3f-4648-a53f-4b6adc7f7ac7')\"\n",
              "            title=\"Suggest charts\"\n",
              "            style=\"display:none;\">\n",
              "\n",
              "<svg xmlns=\"http://www.w3.org/2000/svg\" height=\"24px\"viewBox=\"0 0 24 24\"\n",
              "     width=\"24px\">\n",
              "    <g>\n",
              "        <path d=\"M19 3H5c-1.1 0-2 .9-2 2v14c0 1.1.9 2 2 2h14c1.1 0 2-.9 2-2V5c0-1.1-.9-2-2-2zM9 17H7v-7h2v7zm4 0h-2V7h2v10zm4 0h-2v-4h2v4z\"/>\n",
              "    </g>\n",
              "</svg>\n",
              "  </button>\n",
              "\n",
              "<style>\n",
              "  .colab-df-quickchart {\n",
              "      --bg-color: #E8F0FE;\n",
              "      --fill-color: #1967D2;\n",
              "      --hover-bg-color: #E2EBFA;\n",
              "      --hover-fill-color: #174EA6;\n",
              "      --disabled-fill-color: #AAA;\n",
              "      --disabled-bg-color: #DDD;\n",
              "  }\n",
              "\n",
              "  [theme=dark] .colab-df-quickchart {\n",
              "      --bg-color: #3B4455;\n",
              "      --fill-color: #D2E3FC;\n",
              "      --hover-bg-color: #434B5C;\n",
              "      --hover-fill-color: #FFFFFF;\n",
              "      --disabled-bg-color: #3B4455;\n",
              "      --disabled-fill-color: #666;\n",
              "  }\n",
              "\n",
              "  .colab-df-quickchart {\n",
              "    background-color: var(--bg-color);\n",
              "    border: none;\n",
              "    border-radius: 50%;\n",
              "    cursor: pointer;\n",
              "    display: none;\n",
              "    fill: var(--fill-color);\n",
              "    height: 32px;\n",
              "    padding: 0;\n",
              "    width: 32px;\n",
              "  }\n",
              "\n",
              "  .colab-df-quickchart:hover {\n",
              "    background-color: var(--hover-bg-color);\n",
              "    box-shadow: 0 1px 2px rgba(60, 64, 67, 0.3), 0 1px 3px 1px rgba(60, 64, 67, 0.15);\n",
              "    fill: var(--button-hover-fill-color);\n",
              "  }\n",
              "\n",
              "  .colab-df-quickchart-complete:disabled,\n",
              "  .colab-df-quickchart-complete:disabled:hover {\n",
              "    background-color: var(--disabled-bg-color);\n",
              "    fill: var(--disabled-fill-color);\n",
              "    box-shadow: none;\n",
              "  }\n",
              "\n",
              "  .colab-df-spinner {\n",
              "    border: 2px solid var(--fill-color);\n",
              "    border-color: transparent;\n",
              "    border-bottom-color: var(--fill-color);\n",
              "    animation:\n",
              "      spin 1s steps(1) infinite;\n",
              "  }\n",
              "\n",
              "  @keyframes spin {\n",
              "    0% {\n",
              "      border-color: transparent;\n",
              "      border-bottom-color: var(--fill-color);\n",
              "      border-left-color: var(--fill-color);\n",
              "    }\n",
              "    20% {\n",
              "      border-color: transparent;\n",
              "      border-left-color: var(--fill-color);\n",
              "      border-top-color: var(--fill-color);\n",
              "    }\n",
              "    30% {\n",
              "      border-color: transparent;\n",
              "      border-left-color: var(--fill-color);\n",
              "      border-top-color: var(--fill-color);\n",
              "      border-right-color: var(--fill-color);\n",
              "    }\n",
              "    40% {\n",
              "      border-color: transparent;\n",
              "      border-right-color: var(--fill-color);\n",
              "      border-top-color: var(--fill-color);\n",
              "    }\n",
              "    60% {\n",
              "      border-color: transparent;\n",
              "      border-right-color: var(--fill-color);\n",
              "    }\n",
              "    80% {\n",
              "      border-color: transparent;\n",
              "      border-right-color: var(--fill-color);\n",
              "      border-bottom-color: var(--fill-color);\n",
              "    }\n",
              "    90% {\n",
              "      border-color: transparent;\n",
              "      border-bottom-color: var(--fill-color);\n",
              "    }\n",
              "  }\n",
              "</style>\n",
              "\n",
              "  <script>\n",
              "    async function quickchart(key) {\n",
              "      const quickchartButtonEl =\n",
              "        document.querySelector('#' + key + ' button');\n",
              "      quickchartButtonEl.disabled = true;  // To prevent multiple clicks.\n",
              "      quickchartButtonEl.classList.add('colab-df-spinner');\n",
              "      try {\n",
              "        const charts = await google.colab.kernel.invokeFunction(\n",
              "            'suggestCharts', [key], {});\n",
              "      } catch (error) {\n",
              "        console.error('Error during call to suggestCharts:', error);\n",
              "      }\n",
              "      quickchartButtonEl.classList.remove('colab-df-spinner');\n",
              "      quickchartButtonEl.classList.add('colab-df-quickchart-complete');\n",
              "    }\n",
              "    (() => {\n",
              "      let quickchartButtonEl =\n",
              "        document.querySelector('#df-3cdc38cc-8a3f-4648-a53f-4b6adc7f7ac7 button');\n",
              "      quickchartButtonEl.style.display =\n",
              "        google.colab.kernel.accessAllowed ? 'block' : 'none';\n",
              "    })();\n",
              "  </script>\n",
              "</div>\n",
              "\n",
              "    </div>\n",
              "  </div>\n"
            ],
            "application/vnd.google.colaboratory.intrinsic+json": {
              "type": "dataframe",
              "summary": "{\n  \"name\": \"display(X, y)\",\n  \"rows\": 5,\n  \"fields\": [\n    {\n      \"column\": \"Date\",\n      \"properties\": {\n        \"dtype\": \"date\",\n        \"min\": \"1980-12-12 00:00:00-05:00\",\n        \"max\": \"1980-12-18 00:00:00-05:00\",\n        \"num_unique_values\": 5,\n        \"samples\": [\n          \"1980-12-15 00:00:00-05:00\",\n          \"1980-12-18 00:00:00-05:00\",\n          \"1980-12-16 00:00:00-05:00\"\n        ],\n        \"semantic_type\": \"\",\n        \"description\": \"\"\n      }\n    },\n    {\n      \"column\": \"Open\",\n      \"properties\": {\n        \"dtype\": \"number\",\n        \"std\": 0.0045639523287248525,\n        \"min\": 0.08723210096792319,\n        \"max\": 0.09883446991443634,\n        \"num_unique_values\": 5,\n        \"samples\": [\n          0.09410788991860174,\n          0.09152977168560028,\n          0.08723210096792319\n        ],\n        \"semantic_type\": \"\",\n        \"description\": \"\"\n      }\n    },\n    {\n      \"column\": \"High\",\n      \"properties\": {\n        \"dtype\": \"number\",\n        \"std\": 0.0046381936755793595,\n        \"min\": 0.08723210096792319,\n        \"max\": 0.09926416115370361,\n        \"num_unique_values\": 5,\n        \"samples\": [\n          0.09410788991860174,\n          0.09195945716625491,\n          0.08723210096792319\n        ],\n        \"semantic_type\": \"\",\n        \"description\": \"\"\n      }\n    },\n    {\n      \"column\": \"Low\",\n      \"properties\": {\n        \"dtype\": \"number\",\n        \"std\": 0.004638191914575163,\n        \"min\": 0.0868024155497551,\n        \"max\": 0.09883446991443634,\n        \"num_unique_values\": 5,\n        \"samples\": [\n          0.09367819875478745,\n          0.09152977168560028,\n          0.0868024155497551\n        ],\n        \"semantic_type\": \"\",\n        \"description\": \"\"\n      }\n    },\n    {\n      \"column\": \"Close\",\n      \"properties\": {\n        \"dtype\": \"number\",\n        \"std\": 0.004638191914575163,\n        \"min\": 0.0868024155497551,\n        \"max\": 0.09883446991443634,\n        \"num_unique_values\": 5,\n        \"samples\": [\n          0.09367819875478745,\n          0.09152977168560028,\n          0.0868024155497551\n        ],\n        \"semantic_type\": \"\",\n        \"description\": \"\"\n      }\n    },\n    {\n      \"column\": \"Volume\",\n      \"properties\": {\n        \"dtype\": \"number\",\n        \"std\": 165195066,\n        \"min\": 73449600,\n        \"max\": 469033600,\n        \"num_unique_values\": 5,\n        \"samples\": [\n          175884800,\n          73449600,\n          105728000\n        ],\n        \"semantic_type\": \"\",\n        \"description\": \"\"\n      }\n    },\n    {\n      \"column\": \"Dividends\",\n      \"properties\": {\n        \"dtype\": \"number\",\n        \"std\": 0.0,\n        \"min\": 0.0,\n        \"max\": 0.0,\n        \"num_unique_values\": 1,\n        \"samples\": [\n          0.0\n        ],\n        \"semantic_type\": \"\",\n        \"description\": \"\"\n      }\n    },\n    {\n      \"column\": \"Stock Splits\",\n      \"properties\": {\n        \"dtype\": \"number\",\n        \"std\": 0.0,\n        \"min\": 0.0,\n        \"max\": 0.0,\n        \"num_unique_values\": 1,\n        \"samples\": [\n          0.0\n        ],\n        \"semantic_type\": \"\",\n        \"description\": \"\"\n      }\n    }\n  ]\n}"
            }
          },
          "metadata": {}
        },
        {
          "output_type": "display_data",
          "data": {
            "text/plain": [
              "None"
            ]
          },
          "metadata": {}
        },
        {
          "output_type": "display_data",
          "data": {
            "text/plain": [
              "None"
            ]
          },
          "metadata": {}
        }
      ]
    },
    {
      "cell_type": "code",
      "source": [
        "# data_fetcher = YahooFinanceDataFetcher(\"AAPL\", period=\"1d\")\n",
        "\n",
        "# df_data = data_fetcher.get_data()\n",
        "\n",
        "# display(df_data)"
      ],
      "metadata": {
        "colab": {
          "base_uri": "https://localhost:8080/"
        },
        "id": "91s0hOHCYYGi",
        "outputId": "97c54752-0161-4d00-b7f6-28e44b175209"
      },
      "execution_count": null,
      "outputs": [
        {
          "output_type": "stream",
          "name": "stdout",
          "text": [
            "An error occurred in get_data: [Errno 2] No such file or directory: 'AAPL-1d-1d.csv'\n"
          ]
        }
      ]
    },
    {
      "cell_type": "code",
      "source": [],
      "metadata": {
        "id": "1Yi3qfPQaOLN"
      },
      "execution_count": null,
      "outputs": []
    },
    {
      "cell_type": "markdown",
      "source": [
        "# Archive"
      ],
      "metadata": {
        "id": "36RGCBdqYge3"
      }
    },
    {
      "cell_type": "code",
      "source": [
        "# def save_data(self, verbose=False):\n",
        "#     \"\"\"Saves data to csv file. Saves as 'ticker-period-interval.csv'\"\"\"\n",
        "#     file_name = f\"{self.ticker_symbol}-{self.period}-{self.interval}.csv\"\n",
        "#     df = self.get_raw_data(reload=True, verbose=False)\n",
        "#     df.to_csv(file_name)\n",
        "#     if verbose:\n",
        "#         print(f\"Saved data as {file_name}\")\n",
        "\n",
        "# YahooFinanceDataFetcher.save_data = save_data"
      ],
      "metadata": {
        "id": "YPj989qiWmv2"
      },
      "execution_count": 19,
      "outputs": []
    },
    {
      "cell_type": "code",
      "source": [
        "# def get_raw_data(self, reload=False, verbose=False):\n",
        "#     \"\"\"Get historical data from Yahoo Finance. If reload=False, gets saved data from GitHub if available\"\"\"\n",
        "#     if not reload:\n",
        "#         # Try in order: get data from current file structure, get data from GitHub, get data from yfinance\n",
        "#         try:\n",
        "#             if verbose:\n",
        "#                 print(\"Loading saved data\")\n",
        "#             data = pd.read_csv(f\"{self.ticker_symbol}-{self.period}-{self.interval}.csv\")\n",
        "#         except FileNotFoundError:\n",
        "#             try:\n",
        "#                 if verbose:\n",
        "#                     print(\"No saved data found. Connecting to GitHub\")\n",
        "#                 !git clone https://github.com/luck058/yfinance-prediction\n",
        "#                 %cd yfinance-prediction\n",
        "#                 data = pd.read_csv(f\"{self.ticker_symbol}-{self.period}-{self.interval}.csv\")\n",
        "#             except FileNotFoundError:\n",
        "#                 if verbose:\n",
        "#                     print(\"No saved data found. Reloading data from Yahoo Finance\")\n",
        "#                 data = self.ticker.history(period=self.period, interval=self.interval)\n",
        "#     else:\n",
        "#         if verbose:\n",
        "#             print(\"Reloading data from Yahoo Finance. This will not be saved. Use save_data() to save to GitHub\")\n",
        "#         data = self.ticker.history(period=self.period, interval=self.interval)\n",
        "\n",
        "#     df_data = pd.DataFrame(data)\n",
        "\n",
        "#     if verbose:\n",
        "#         display(\"Historical Data:\")\n",
        "#         display(df_data.head())\n",
        "\n",
        "#     return df_data\n",
        "\n",
        "# YahooFinanceDataFetcher.get_raw_data = get_raw_data"
      ],
      "metadata": {
        "id": "2Ycz_z-3WNyP"
      },
      "execution_count": 13,
      "outputs": []
    }
  ]
}