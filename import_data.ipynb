{
  "nbformat": 4,
  "nbformat_minor": 0,
  "metadata": {
    "colab": {
      "provenance": [],
      "authorship_tag": "ABX9TyP/cRU32hSa3XDAGWHibAv+",
      "include_colab_link": true
    },
    "kernelspec": {
      "name": "python3",
      "display_name": "Python 3"
    },
    "language_info": {
      "name": "python"
    }
  },
  "cells": [
    {
      "cell_type": "markdown",
      "metadata": {
        "id": "view-in-github",
        "colab_type": "text"
      },
      "source": [
        "<a href=\"https://colab.research.google.com/github/luck058/yfinance-prediction/blob/main/import_data.ipynb\" target=\"_parent\"><img src=\"https://colab.research.google.com/assets/colab-badge.svg\" alt=\"Open In Colab\"/></a>"
      ]
    },
    {
      "cell_type": "code",
      "source": [
        "%%capture\n",
        "!pip install yfinance"
      ],
      "metadata": {
        "id": "KOEKKwt9VbML"
      },
      "execution_count": 1,
      "outputs": []
    },
    {
      "cell_type": "code",
      "execution_count": 2,
      "metadata": {
        "id": "IQIZaY4WVULz"
      },
      "outputs": [],
      "source": [
        "import yfinance as yf\n",
        "import pandas as pd\n",
        "import numpy as np"
      ]
    },
    {
      "cell_type": "code",
      "source": [
        "def help():\n",
        "    print('# Set up data fetcher using:')\n",
        "    print('data_fetcher = YahooFinanceDataFetcher(self, ticker_symbol, period=\"max\", interval=\"1d\")\\n')\n",
        "    print('# Get historical data using:')\n",
        "    print('df_data = data_fetcher.get_data(verbose=False)\\n')\n",
        "    print('# Get financials using:')\n",
        "    print('df_financials = data_fetcher.get_financials(verbose=False)\\n')\n",
        "    print('# Get actions using:')\n",
        "    print('df_actions = data_fetcher.get_actions(verbose=False)\\n')"
      ],
      "metadata": {
        "id": "fvdvL9Wpb2Oe"
      },
      "execution_count": 3,
      "outputs": []
    },
    {
      "cell_type": "code",
      "source": [
        "class YahooFinanceDataFetcher:\n",
        "    \"\"\"All functions defined in this notebook are added to this class\"\"\"\n",
        "    def __init__(self, ticker_symbol, period=\"max\", interval=\"1d\", train_frac=0.8):\n",
        "        self.ticker_symbol = ticker_symbol\n",
        "        self.ticker = yf.Ticker(ticker_symbol)\n",
        "        self.period = period\n",
        "        self.interval = interval\n",
        "        # Fraction of the data which will be used for training (last section will be reserved for testing)\n",
        "        self.train_frac = train_frac\n",
        "        self.X = None\n",
        "        self.y = None"
      ],
      "metadata": {
        "id": "2Ytd0l_tVaWM"
      },
      "execution_count": 4,
      "outputs": []
    },
    {
      "cell_type": "code",
      "source": [
        "def get_raw_data(self, verbose=False):\n",
        "    \"\"\"Get historical data from Yahoo Finance. If reload=False, gets saved data from GitHub if available\"\"\"\n",
        "    data = self.ticker.history(period=self.period, interval=self.interval)\n",
        "    df_data = pd.DataFrame(data)\n",
        "\n",
        "    if verbose:\n",
        "        display(\"Historical Data:\")\n",
        "        display(df_data.head())\n",
        "        print(df_data.shape)\n",
        "\n",
        "    return df_data\n",
        "\n",
        "YahooFinanceDataFetcher.get_raw_data = get_raw_data"
      ],
      "metadata": {
        "id": "gNzo3JZNXNKw"
      },
      "execution_count": 5,
      "outputs": []
    },
    {
      "cell_type": "code",
      "source": [
        "def get_financials(self, verbose=False):\n",
        "    financials = self.ticker.financials\n",
        "    df_financials = pd.DataFrame(financials).T\n",
        "\n",
        "    if verbose:\n",
        "        print(\"Financials:\")\n",
        "        display(df_financials)\n",
        "        print(df_financials.shape)\n",
        "\n",
        "    return df_financials\n",
        "\n",
        "YahooFinanceDataFetcher.get_financials = get_financials"
      ],
      "metadata": {
        "id": "CE9KdIhgYoqS"
      },
      "execution_count": 6,
      "outputs": []
    },
    {
      "cell_type": "code",
      "source": [
        "def get_actions(self, verbose=False):\n",
        "    actions = self.ticker.actions\n",
        "    df_actions = pd.DataFrame(actions)\n",
        "\n",
        "    if verbose:\n",
        "        print(\"Actions:\")\n",
        "        display(df_actions)\n",
        "        print(df_actions.shape)\n",
        "\n",
        "    return df_actions\n",
        "\n",
        "YahooFinanceDataFetcher.get_actions = get_actions"
      ],
      "metadata": {
        "id": "y051IGK2ZPqS"
      },
      "execution_count": 7,
      "outputs": []
    },
    {
      "cell_type": "code",
      "source": [
        "def create_lag(df, column, lookback, include_zero=True):\n",
        "    \"\"\"\n",
        "    Shifts 'column' a maximum of 'lookback' timesteps into the past, creating a new column for each 2^n steps\n",
        "    ie. Creates column 'column-1', 'column-2', 'column-4' etc. until reaching 'lookback'\n",
        "    If include_zero, will also include 'column-0' (original column)\n",
        "    \"\"\"\n",
        "    assert column in df.columns\n",
        "    if include_zero:\n",
        "        df[f'{column}-0'] = df[column]\n",
        "\n",
        "    for lag in range(1, lookback):\n",
        "        if np.log2(lag) % 1 == 0:\n",
        "            df[f'{column}-{lag}'] = df[column].shift(lag)"
      ],
      "metadata": {
        "id": "vUjqmbA9amLa"
      },
      "execution_count": 8,
      "outputs": []
    },
    {
      "cell_type": "code",
      "source": [
        "def add_max(df, column, lookback, name_append=None):\n",
        "    \"\"\"Add the max value in the last 'lookback' timesteps to df\"\"\"\n",
        "    assert column in df.columns\n",
        "    df[f'{column} max{name_append}'] = df[column].rolling(lookback).max()"
      ],
      "metadata": {
        "id": "vT_gjCSu7eja"
      },
      "execution_count": 9,
      "outputs": []
    },
    {
      "cell_type": "code",
      "source": [
        "def add_min(df, column, lookback, name_append=None):\n",
        "    \"\"\"Add the min value in the last 'lookback' timesteps to df\"\"\"\n",
        "    assert column in df.columns\n",
        "    df[f'{column} min{name_append}'] = df[column].rolling(lookback).min()"
      ],
      "metadata": {
        "id": "aRxv67lD7hHL"
      },
      "execution_count": 10,
      "outputs": []
    },
    {
      "cell_type": "code",
      "source": [
        "def add_mean(df, column, lookback, name_append=None):\n",
        "    \"\"\"Add the mean value in the last 'lookback' timesteps to df\"\"\"\n",
        "    assert column in df.columns\n",
        "    df[f'{column} mean{name_append}'] = df[column].rolling(lookback).mean()"
      ],
      "metadata": {
        "id": "SmeBiZxT7oCQ"
      },
      "execution_count": 11,
      "outputs": []
    },
    {
      "cell_type": "code",
      "source": [
        "def get_X_y(self, reload=False, test=False, verbose=False,\n",
        "            lookback_y=10,\n",
        "            lookback_other=10,\n",
        "            short_lookback=3,\n",
        "            add_short_max_cols=[\"Open-0\", \"High\", \"Low\", \"Close\"],\n",
        "            add_short_min_cols=[\"Open-0\", \"High\", \"Low\", \"Close\"],\n",
        "            add_short_mean_cols=[\"Open-0\", \"High\", \"Low\", \"Close\"],\n",
        "            add_max_cols=[\"Open-0\", \"High\", \"Low\", \"Close\"],\n",
        "            add_min_cols=[\"Open-0\", \"High\", \"Low\", \"Close\"],\n",
        "            add_mean_cols=[\"Open-0\", \"High\", \"Low\", \"Close\"],\n",
        "            ):\n",
        "    \"\"\"Return X and y dataframes\"\"\"\n",
        "    # If the X and y have not already been created\n",
        "    if self.X is None or self.y is None:\n",
        "        df = self.get_raw_data(verbose=verbose)\n",
        "        y_column = \"Open\"\n",
        "\n",
        "        original_columns = df.columns\n",
        "        # Add previous days' values\n",
        "        create_lag(df, y_column, lookback=lookback_y, include_zero=True)\n",
        "        for column in original_columns:\n",
        "            create_lag(df, column, lookback=lookback_other, include_zero=False)\n",
        "\n",
        "        # Add the max/min/mean value of each value in 'add_short_x_cols' in the last 'short_lookback' days\n",
        "        # Eg. maximum open price in the last 3 days\n",
        "        for column in add_short_max_cols:\n",
        "            add_max(df, column, lookback=short_lookback, name_append=f\"_max{short_lookback}\")\n",
        "        for column in add_short_min_cols:\n",
        "            add_min(df, column, lookback=short_lookback, name_append=f\"_min-{short_lookback}\")\n",
        "        for column in add_short_mean_cols:\n",
        "            add_mean(df, column, lookback=short_lookback, name_append=f\"_mean-{short_lookback}\")\n",
        "\n",
        "        # Add the max/min/mean value of each value in 'add_long_x_cols' in the last 'lookback_other' days\n",
        "        for column in add_max_cols:\n",
        "            add_max(df, column, lookback=lookback_other, name_append=f\"_max-{lookback_other}\")\n",
        "        for column in add_min_cols:\n",
        "            add_min(df, column, lookback=lookback_other, name_append=f\"_min-{lookback_other}\")\n",
        "        for column in add_mean_cols:\n",
        "            add_mean(df, column, lookback=lookback_other, name_append=f\"_mean-{lookback_other}\")\n",
        "\n",
        "        # Drop rows with NaN values\n",
        "        df.dropna(inplace=True)\n",
        "\n",
        "        self.X = df.drop(columns=[y_column])\n",
        "        self.y = df[y_column]\n",
        "\n",
        "        # Shift y by 1 to prevent lookahead bias (predict tomorrow's y)\n",
        "        df[y_column] = df[y_column].shift(-1)\n",
        "\n",
        "    if verbose:\n",
        "        display(X)\n",
        "        display(y)\n",
        "\n",
        "    train_length = int(len(self.X) * self.train_frac)\n",
        "    test_length = len(self.X) - train_length\n",
        "\n",
        "    # Only return test (most recent data)/ train (older data) data depending on what is needed\n",
        "    if test:\n",
        "        return self.X.tail(test_length), self.y.tail(test_length)\n",
        "    else:\n",
        "        return self.X.head(train_length), self.y.head(train_length)\n",
        "\n",
        "\n",
        "YahooFinanceDataFetcher.get_X_y = get_X_y"
      ],
      "metadata": {
        "id": "zE16iV_qTQPC"
      },
      "execution_count": 12,
      "outputs": []
    },
    {
      "cell_type": "code",
      "source": [
        "# data_fetcher = YahooFinanceDataFetcher(\"AAPL\", period=\"1d\")\n",
        "\n",
        "# df_data = data_fetcher.get_data()\n",
        "\n",
        "# display(df_data)"
      ],
      "metadata": {
        "id": "91s0hOHCYYGi"
      },
      "execution_count": 13,
      "outputs": []
    },
    {
      "cell_type": "code",
      "source": [],
      "metadata": {
        "id": "1Yi3qfPQaOLN"
      },
      "execution_count": 13,
      "outputs": []
    },
    {
      "cell_type": "markdown",
      "source": [
        "# Archive"
      ],
      "metadata": {
        "id": "36RGCBdqYge3"
      }
    },
    {
      "cell_type": "code",
      "source": [
        "# def save_data(self, verbose=False):\n",
        "#     \"\"\"Saves data to csv file. Saves as 'ticker-period-interval.csv'\"\"\"\n",
        "#     file_name = f\"{self.ticker_symbol}-{self.period}-{self.interval}.csv\"\n",
        "#     df = self.get_raw_data(reload=True, verbose=False)\n",
        "#     df.to_csv(file_name)\n",
        "#     if verbose:\n",
        "#         print(f\"Saved data as {file_name}\")\n",
        "\n",
        "# YahooFinanceDataFetcher.save_data = save_data"
      ],
      "metadata": {
        "id": "YPj989qiWmv2"
      },
      "execution_count": 14,
      "outputs": []
    },
    {
      "cell_type": "code",
      "source": [
        "# def get_raw_data(self, reload=False, verbose=False):\n",
        "#     \"\"\"Get historical data from Yahoo Finance. If reload=False, gets saved data from GitHub if available\"\"\"\n",
        "#     if not reload:\n",
        "#         # Try in order: get data from current file structure, get data from GitHub, get data from yfinance\n",
        "#         try:\n",
        "#             if verbose:\n",
        "#                 print(\"Loading saved data\")\n",
        "#             data = pd.read_csv(f\"{self.ticker_symbol}-{self.period}-{self.interval}.csv\")\n",
        "#         except FileNotFoundError:\n",
        "#             try:\n",
        "#                 if verbose:\n",
        "#                     print(\"No saved data found. Connecting to GitHub\")\n",
        "#                 !git clone https://github.com/luck058/yfinance-prediction\n",
        "#                 %cd yfinance-prediction\n",
        "#                 data = pd.read_csv(f\"{self.ticker_symbol}-{self.period}-{self.interval}.csv\")\n",
        "#             except FileNotFoundError:\n",
        "#                 if verbose:\n",
        "#                     print(\"No saved data found. Reloading data from Yahoo Finance\")\n",
        "#                 data = self.ticker.history(period=self.period, interval=self.interval)\n",
        "#     else:\n",
        "#         if verbose:\n",
        "#             print(\"Reloading data from Yahoo Finance. This will not be saved. Use save_data() to save to GitHub\")\n",
        "#         data = self.ticker.history(period=self.period, interval=self.interval)\n",
        "\n",
        "#     df_data = pd.DataFrame(data)\n",
        "\n",
        "#     if verbose:\n",
        "#         display(\"Historical Data:\")\n",
        "#         display(df_data.head())\n",
        "\n",
        "#     return df_data\n",
        "\n",
        "# YahooFinanceDataFetcher.get_raw_data = get_raw_data"
      ],
      "metadata": {
        "id": "2Ycz_z-3WNyP"
      },
      "execution_count": 15,
      "outputs": []
    }
  ]
}